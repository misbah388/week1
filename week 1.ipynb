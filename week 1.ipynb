{
 "cells": [
  {
   "cell_type": "markdown",
   "id": "42bdb693",
   "metadata": {},
   "source": [
    "# Q.No.1"
   ]
  },
  {
   "cell_type": "code",
   "execution_count": 27,
   "id": "9b386dd1",
   "metadata": {},
   "outputs": [
    {
     "name": "stdout",
     "output_type": "stream",
     "text": [
      "Enter your first name======>  Misbah\n",
      "\n",
      "Enter your last name======>   Rani\n",
      "\n",
      "Enter your Address======>  Izafi basti\n",
      "\n",
      "Enter your Rollnumber======>  45689\n"
     ]
    }
   ],
   "source": [
    "FN=input(\"Enter your first name======>  \")\n",
    "LN=input(\"\\nEnter your last name======>   \")\n",
    "AD=input(\"\\nEnter your Address======>  \")\n",
    "RN=input(\"\\nEnter your Rollnumber======>  \")"
   ]
  },
  {
   "cell_type": "code",
   "execution_count": null,
   "id": "88c83fec",
   "metadata": {},
   "outputs": [],
   "source": []
  },
  {
   "cell_type": "code",
   "execution_count": 29,
   "id": "09e17265",
   "metadata": {},
   "outputs": [
    {
     "name": "stdout",
     "output_type": "stream",
     "text": [
      "First name==> Misbah \n",
      "\n",
      " Last name==> Rani \n",
      "\n",
      " Address==> Izafi basti \n",
      "\n",
      " Rollnumber==> 45689\n"
     ]
    }
   ],
   "source": [
    "print(\"First name==>\" , FN , \"\\n\\n Last name==>\" , LN , \"\\n\\n Address==>\" , AD , \"\\n\\n Rollnumber==>\" , RN)"
   ]
  },
  {
   "cell_type": "code",
   "execution_count": null,
   "id": "ebd6d2f4",
   "metadata": {},
   "outputs": [],
   "source": []
  },
  {
   "cell_type": "markdown",
   "id": "f3373f50",
   "metadata": {},
   "source": [
    "# Q.No.2"
   ]
  },
  {
   "cell_type": "code",
   "execution_count": 30,
   "id": "4372c0cd",
   "metadata": {},
   "outputs": [
    {
     "data": {
      "text/plain": [
       "'Misbah Rani'"
      ]
     },
     "execution_count": 30,
     "metadata": {},
     "output_type": "execute_result"
    }
   ],
   "source": [
    "full=(FN +\" \"+ LN)\n",
    "full"
   ]
  },
  {
   "cell_type": "code",
   "execution_count": 6,
   "id": "85749205",
   "metadata": {},
   "outputs": [
    {
     "name": "stdout",
     "output_type": "stream",
     "text": [
      "Misbah Rani\n"
     ]
    }
   ],
   "source": [
    "print(\"Misbah\"+\" \"+\"Rani\")"
   ]
  },
  {
   "cell_type": "code",
   "execution_count": 31,
   "id": "d1a6359a",
   "metadata": {},
   "outputs": [
    {
     "data": {
      "text/plain": [
       "11"
      ]
     },
     "execution_count": 31,
     "metadata": {},
     "output_type": "execute_result"
    }
   ],
   "source": [
    "len(full)"
   ]
  },
  {
   "cell_type": "markdown",
   "id": "0e1c9353",
   "metadata": {},
   "source": [
    "# Q.No.3"
   ]
  },
  {
   "cell_type": "code",
   "execution_count": null,
   "id": "efd9acb7",
   "metadata": {},
   "outputs": [],
   "source": []
  },
  {
   "cell_type": "code",
   "execution_count": 6,
   "id": "12ed687d",
   "metadata": {},
   "outputs": [
    {
     "name": "stdout",
     "output_type": "stream",
     "text": [
      "Enter your first name======>  Misbah\n",
      "\n",
      "Enter your last name======>   Rani\n",
      "\n",
      "Enter your Address======>  Izafi basti\n",
      "\n",
      "Enter your Rollnumber======>  45689\n"
     ]
    },
    {
     "data": {
      "text/plain": [
       "['Misbah', 'Rani', 'Izafi basti', '45689']"
      ]
     },
     "execution_count": 6,
     "metadata": {},
     "output_type": "execute_result"
    }
   ],
   "source": [
    "Information=[]\n",
    "Information.append(input(\"Enter your first name======>  \"))\n",
    "Information.append(input(\"\\nEnter your last name======>   \"))\n",
    "Information.append(input(\"\\nEnter your Address======>  \"))\n",
    "Information.append(input(\"\\nEnter your Rollnumber======>  \"))\n",
    "Information\n"
   ]
  },
  {
   "cell_type": "code",
   "execution_count": 16,
   "id": "8b3693b9",
   "metadata": {},
   "outputs": [
    {
     "name": "stdout",
     "output_type": "stream",
     "text": [
      "Enter your first name======>  Misbah\n",
      "\n",
      "Enter your last name======>   Rani\n",
      "\n",
      "Enter your Address======>  Izafi basti\n",
      "\n",
      "Enter your Rollnumber======>  45689\n"
     ]
    },
    {
     "data": {
      "text/plain": [
       "['Misbah', 'Rani', 'Izafi basti', '45689']"
      ]
     },
     "execution_count": 16,
     "metadata": {},
     "output_type": "execute_result"
    }
   ],
   "source": [
    "Information=[]\n",
    "FN=input(\"Enter your first name======>  \")\n",
    "LN=input(\"\\nEnter your last name======>   \")\n",
    "AD=input(\"\\nEnter your Address======>  \")\n",
    "RN=input(\"\\nEnter your Rollnumber======>  \")\n",
    "Information.append(FN)\n",
    "Information.append(LN)\n",
    "Information.append(AD)\n",
    "Information.append(RN)\n",
    "Information\n"
   ]
  },
  {
   "cell_type": "markdown",
   "id": "9027c32f",
   "metadata": {},
   "source": [
    "# Q.No.4 "
   ]
  },
  {
   "cell_type": "code",
   "execution_count": 18,
   "id": "8110fddf",
   "metadata": {},
   "outputs": [
    {
     "data": {
      "text/plain": [
       "6"
      ]
     },
     "execution_count": 18,
     "metadata": {},
     "output_type": "execute_result"
    }
   ],
   "source": [
    "len(Information[0])"
   ]
  },
  {
   "cell_type": "code",
   "execution_count": 26,
   "id": "f51e4354",
   "metadata": {},
   "outputs": [
    {
     "data": {
      "text/plain": [
       "6"
      ]
     },
     "execution_count": 26,
     "metadata": {},
     "output_type": "execute_result"
    }
   ],
   "source": [
    "len(Information[0])"
   ]
  },
  {
   "cell_type": "markdown",
   "id": "bc3e9982",
   "metadata": {},
   "source": [
    "# Q.No.6"
   ]
  },
  {
   "cell_type": "code",
   "execution_count": 14,
   "id": "ff8f67ed",
   "metadata": {},
   "outputs": [
    {
     "data": {
      "text/plain": [
       "4"
      ]
     },
     "execution_count": 14,
     "metadata": {},
     "output_type": "execute_result"
    }
   ],
   "source": [
    "len(Information)"
   ]
  },
  {
   "cell_type": "code",
   "execution_count": null,
   "id": "05fc8e98",
   "metadata": {},
   "outputs": [],
   "source": []
  },
  {
   "cell_type": "code",
   "execution_count": 5,
   "id": "4f8cda59",
   "metadata": {},
   "outputs": [
    {
     "data": {
      "text/plain": [
       "str"
      ]
     },
     "execution_count": 5,
     "metadata": {},
     "output_type": "execute_result"
    }
   ],
   "source": [
    "type(FN)"
   ]
  },
  {
   "cell_type": "code",
   "execution_count": 6,
   "id": "8d838683",
   "metadata": {},
   "outputs": [
    {
     "data": {
      "text/plain": [
       "str"
      ]
     },
     "execution_count": 6,
     "metadata": {},
     "output_type": "execute_result"
    }
   ],
   "source": [
    "type(LN)"
   ]
  },
  {
   "cell_type": "code",
   "execution_count": 7,
   "id": "d9ac4515",
   "metadata": {},
   "outputs": [
    {
     "data": {
      "text/plain": [
       "str"
      ]
     },
     "execution_count": 7,
     "metadata": {},
     "output_type": "execute_result"
    }
   ],
   "source": [
    "type(AD)"
   ]
  },
  {
   "cell_type": "code",
   "execution_count": 8,
   "id": "df1e3e06",
   "metadata": {},
   "outputs": [
    {
     "data": {
      "text/plain": [
       "str"
      ]
     },
     "execution_count": 8,
     "metadata": {},
     "output_type": "execute_result"
    }
   ],
   "source": [
    "type(RN)"
   ]
  },
  {
   "cell_type": "markdown",
   "id": "c6352532",
   "metadata": {},
   "source": [
    "# Q.No.7"
   ]
  },
  {
   "cell_type": "code",
   "execution_count": 8,
   "id": "bb504ed2",
   "metadata": {},
   "outputs": [
    {
     "name": "stdout",
     "output_type": "stream",
     "text": [
      "Enter first number==> 65\n",
      "Enter second number==> 25\n",
      "sum is==> 90\n"
     ]
    }
   ],
   "source": [
    "Num1=int(input(\"Enter first number==> \"))\n",
    "Num2=int(input(\"Enter second number==> \"))\n",
    "print(\"sum is==>\" , Num1+ Num2)"
   ]
  },
  {
   "cell_type": "code",
   "execution_count": 32,
   "id": "3133c0de",
   "metadata": {},
   "outputs": [
    {
     "name": "stdout",
     "output_type": "stream",
     "text": [
      "Enter first number==> 23\n",
      "Enter second number==> 10\n",
      "The subtract is==> 13\n"
     ]
    }
   ],
   "source": [
    "Num1=int(input(\"Enter first number==> \"))\n",
    "Num2=int(input(\"Enter second number==> \"))\n",
    "print(\"The subtract is==>\" , Num1- Num2)"
   ]
  },
  {
   "cell_type": "code",
   "execution_count": 10,
   "id": "6c556b52",
   "metadata": {},
   "outputs": [
    {
     "name": "stdout",
     "output_type": "stream",
     "text": [
      "Enter first number==> 15\n",
      "Enter second number==> 5\n",
      "Multipul is==> 75\n"
     ]
    }
   ],
   "source": [
    "Num1=int(input(\"Enter first number==> \"))\n",
    "Num2=int(input(\"Enter second number==> \"))\n",
    "print(\"Multipul is==>\" , Num1* Num2)"
   ]
  },
  {
   "cell_type": "code",
   "execution_count": 11,
   "id": "5f6282f9",
   "metadata": {},
   "outputs": [
    {
     "name": "stdout",
     "output_type": "stream",
     "text": [
      "Enter first number==> 18\n",
      "Enter second number==> 3\n",
      "The Divion is==> 6.0\n"
     ]
    }
   ],
   "source": [
    "Num1=int(input(\"Enter first number==> \"))\n",
    "Num2=int(input(\"Enter second number==> \"))\n",
    "print(\"The Divion is==>\" , Num1/Num2)"
   ]
  },
  {
   "cell_type": "code",
   "execution_count": null,
   "id": "480c9875",
   "metadata": {},
   "outputs": [],
   "source": []
  }
 ],
 "metadata": {
  "kernelspec": {
   "display_name": "Python 3 (ipykernel)",
   "language": "python",
   "name": "python3"
  },
  "language_info": {
   "codemirror_mode": {
    "name": "ipython",
    "version": 3
   },
   "file_extension": ".py",
   "mimetype": "text/x-python",
   "name": "python",
   "nbconvert_exporter": "python",
   "pygments_lexer": "ipython3",
   "version": "3.9.7"
  }
 },
 "nbformat": 4,
 "nbformat_minor": 5
}
